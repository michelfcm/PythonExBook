{
 "cells": [
  {
   "cell_type": "markdown",
   "metadata": {},
   "source": [
    "# Capítulo 2"
   ]
  },
  {
   "cell_type": "markdown",
   "metadata": {},
   "source": [
    "<strong>Exercício 2.3</strong> - Faça um programa que exiba seu nome na tela."
   ]
  },
  {
   "cell_type": "code",
   "execution_count": 1,
   "metadata": {},
   "outputs": [
    {
     "name": "stdout",
     "output_type": "stream",
     "text": [
      "Michel\n"
     ]
    }
   ],
   "source": [
    "print('Michel')"
   ]
  },
  {
   "cell_type": "markdown",
   "metadata": {},
   "source": [
    "<strong>Exercício 2.4</strong> - Escreva um programa que exiba o resultado de 2a x 3b, em que a vale 3 e b vale 5."
   ]
  },
  {
   "cell_type": "code",
   "execution_count": 2,
   "metadata": {},
   "outputs": [
    {
     "name": "stdout",
     "output_type": "stream",
     "text": [
      "90\n"
     ]
    }
   ],
   "source": [
    "print((2*3)*(3*5))"
   ]
  },
  {
   "cell_type": "markdown",
   "metadata": {},
   "source": [
    "<strong>Exercício 2.5</strong> - Escreva um programa que calcule a soma de três variáveis e imprima o resultado na tela."
   ]
  },
  {
   "cell_type": "code",
   "execution_count": 3,
   "metadata": {},
   "outputs": [
    {
     "name": "stdout",
     "output_type": "stream",
     "text": [
      "60\n"
     ]
    }
   ],
   "source": [
    "a = 10\n",
    "b = 20\n",
    "c = 30\n",
    "print(a+b+c)"
   ]
  },
  {
   "cell_type": "markdown",
   "metadata": {},
   "source": [
    "<strong>Exercício 2.6</strong> - Modifique o Programa 2.2, de forma que ele calcule um aumento de 15% para um salário de R$750."
   ]
  },
  {
   "cell_type": "markdown",
   "metadata": {},
   "source": [
    "Programa 2.2 - Cálculo de aumento de salário\n",
    "\n",
    "salario = 1500 <br/>\n",
    "aumento = 5 <br/>\n",
    "print(salario + (salario * aumento / 100))\n"
   ]
  },
  {
   "cell_type": "code",
   "execution_count": 4,
   "metadata": {},
   "outputs": [
    {
     "name": "stdout",
     "output_type": "stream",
     "text": [
      "862.5\n"
     ]
    }
   ],
   "source": [
    "salario = 750\n",
    "aumento = 15\n",
    "print(salario + (salario * aumento / 100))"
   ]
  },
  {
   "cell_type": "markdown",
   "metadata": {},
   "source": [
    "# Capítulo 3"
   ]
  },
  {
   "cell_type": "markdown",
   "metadata": {},
   "source": [
    "<strong>Exercício 3.7</strong> - Faça um programa que peça dois números inteiros. Imprima a soma desses dois números na tela."
   ]
  },
  {
   "cell_type": "code",
   "execution_count": 5,
   "metadata": {},
   "outputs": [
    {
     "name": "stdout",
     "output_type": "stream",
     "text": [
      "Digite o primeiro número: 10\n",
      "Digite o segundo número: 20\n",
      "A soma é 30\n"
     ]
    }
   ],
   "source": [
    "num1 = int(input('Digite o primeiro número: '))\n",
    "num2 = int(input('Digite o segundo número: '))\n",
    "print(f'A soma é {num1+num2}')           "
   ]
  },
  {
   "cell_type": "markdown",
   "metadata": {},
   "source": [
    "<strong>Exercício 3.8</strong> - Escreva um programa que leia um valor em metros e o exiba convertido em milímetros."
   ]
  },
  {
   "cell_type": "code",
   "execution_count": 6,
   "metadata": {},
   "outputs": [
    {
     "name": "stdout",
     "output_type": "stream",
     "text": [
      "Digite o valor em metros: 10\n",
      "O valor 10 metros equivale a 10000.00 milímetros.\n"
     ]
    }
   ],
   "source": [
    "vmet = int(input('Digite o valor em metros: '))\n",
    "print(f'O valor {vmet} metros equivale a {vmet * 1000 :.2f} milímetros.')"
   ]
  },
  {
   "cell_type": "markdown",
   "metadata": {},
   "source": [
    "<strong>Exercício 3.9</strong> - Escreva um programa que leia a quantidade de dias, horas, minutos e segundos do usuário. Calcule o total em segundos."
   ]
  },
  {
   "cell_type": "code",
   "execution_count": 7,
   "metadata": {},
   "outputs": [
    {
     "name": "stdout",
     "output_type": "stream",
     "text": [
      "Digite os dias: 2\n",
      "Digite as horas: 2\n",
      "Digite os minutos: 2\n",
      "Digite os segundos: 2\n",
      "Os 2 dias, 2 horas, 2 minutos e 2 segundos. Equivale a 180122 segundos.\n"
     ]
    }
   ],
   "source": [
    "dia = int(input('Digite os dias: '))\n",
    "hora = int(input('Digite as horas: '))\n",
    "mint = int(input('Digite os minutos: '))\n",
    "seg = int(input('Digite os segundos: '))\n",
    "total = (dia * 86400) + (hora * 3600) + (mint * 60) + seg \n",
    "print(f'Os {dia} dias, {hora} horas, {mint} minutos e {seg} segundos. Equivale a {total} segundos.')"
   ]
  },
  {
   "cell_type": "markdown",
   "metadata": {},
   "source": [
    "<strong>Exercício 3.10</strong> - Faça um programa que calcule o aumento de um salário. Ele deve solicitar o valor do salário e a porcentagem do aumento. Exiba o valor do aumento e do novo salário."
   ]
  },
  {
   "cell_type": "code",
   "execution_count": 8,
   "metadata": {},
   "outputs": [
    {
     "name": "stdout",
     "output_type": "stream",
     "text": [
      "Digite o salário: 100\n",
      "Digite o aumento: 10\n",
      "O valor do aumento foi de R$10.00 e o novo salário é de R$110.00\n"
     ]
    }
   ],
   "source": [
    "salario = int(input('Digite o salário: '))\n",
    "aumento = int(input('Digite o aumento: '))\n",
    "print(f'O valor do aumento foi de R${(salario * aumento / 100) :.2f} e o novo salário é de R${(salario + (salario * aumento /100)) :.2f}')"
   ]
  },
  {
   "cell_type": "markdown",
   "metadata": {},
   "source": [
    "<strong>Exercício 3.11</strong> - Faça um programa que solicite o preço de uma mercadoria e o percentual de desconto. Exiba o valor do desconto e o preço a pagar."
   ]
  },
  {
   "cell_type": "code",
   "execution_count": 9,
   "metadata": {},
   "outputs": [
    {
     "name": "stdout",
     "output_type": "stream",
     "text": [
      "Digite o preço da mercadoria: 100\n",
      "Digite o desconto da mercadoria: 10\n",
      "O valor do desconto foi de R$10.00 e o preço com desconto é de R$90.00\n"
     ]
    }
   ],
   "source": [
    "preco = int(input('Digite o preço da mercadoria: '))\n",
    "desc = int(input('Digite o desconto da mercadoria: '))\n",
    "print(f'O valor do desconto foi de R${(preco * desc / 100) :.2f} e o preço com desconto é de R${(preco - (preco * desc /100)) :.2f}')"
   ]
  },
  {
   "cell_type": "markdown",
   "metadata": {},
   "source": [
    "<strong>Exercício 3.12</strong> - Escreva um programa que calcule o tempo de uma viagem de carro. Pergunte a distância a percorrer e a velocidade média esperada para a viagem."
   ]
  },
  {
   "cell_type": "code",
   "execution_count": 10,
   "metadata": {},
   "outputs": [
    {
     "name": "stdout",
     "output_type": "stream",
     "text": [
      "Qual a distância em km: 100\n",
      "Qual a velocidade média em km/h: 50\n",
      "A viagem irá demorar 2 horas e 0.0 minutos\n"
     ]
    }
   ],
   "source": [
    "dist = int(input('Qual a distância em km: '))\n",
    "vmed = int(input('Qual a velocidade média em km/h: '))\n",
    "print(f'A viagem irá demorar {dist // vmed} horas e {((dist / vmed) - (dist // vmed)) * 60} minutos')"
   ]
  },
  {
   "cell_type": "markdown",
   "metadata": {},
   "source": [
    "<strong>Exercício 3.13</strong> - Escreva um programa que converta uma temperatura digitada em C em F. A fórmula para essa conversão é:<br/>\n",
    "F = (9*C)/5+32"
   ]
  },
  {
   "cell_type": "code",
   "execution_count": 11,
   "metadata": {},
   "outputs": [
    {
     "name": "stdout",
     "output_type": "stream",
     "text": [
      "Digite a temperatura em graus Celsius: 35\n",
      "A temperatura 35 graus Celsius equivale a 95.0 graus Fahrenheit.\n"
     ]
    }
   ],
   "source": [
    "cels = int(input('Digite a temperatura em graus Celsius: '))\n",
    "print(f'A temperatura {cels} graus Celsius equivale a {(9 * cels) / 5 + 32} graus Fahrenheit.')"
   ]
  },
  {
   "cell_type": "markdown",
   "metadata": {},
   "source": [
    "<strong>Exercício 3.14</strong> - Escreva um programa que pergunte a quantidade de km percorridos por um carro alugado pelo usuário, assim como a quantidade de dias pelos quais o carro foi alugado. Calcule o preço a pagar, sabendo que o carro custa R$ 60 por dia e RS 0,15 por km rodado."
   ]
  },
  {
   "cell_type": "code",
   "execution_count": 12,
   "metadata": {},
   "outputs": [
    {
     "name": "stdout",
     "output_type": "stream",
     "text": [
      "Digite a quantidade de dias que o carro ficou alugado: 2\n",
      "Digite a quantidade de km rodados: 100\n",
      "O valor total a pagar é de R$ 135.00\n"
     ]
    }
   ],
   "source": [
    "dia = int(input('Digite a quantidade de dias que o carro ficou alugado: '))\n",
    "km = int(input('Digite a quantidade de km rodados: '))\n",
    "print(f'O valor total a pagar é de R$ {((dia * 60) + (km * 0.15)) :.2f}')"
   ]
  },
  {
   "cell_type": "markdown",
   "metadata": {},
   "source": [
    "<strong>Exercício 3.15</strong> - Escreva um programa para calcular a redução do tempo de vida de um fumante. Pergunte a quantidade de cigarros fumados por dia e quantos anos ele já fumou. Considere que um fumante perde 10 minutos de vida a cada cigarro e calcule quantos dias de vida um fumante perderá. Exiba o total em dias."
   ]
  },
  {
   "cell_type": "code",
   "execution_count": 13,
   "metadata": {},
   "outputs": [
    {
     "name": "stdout",
     "output_type": "stream",
     "text": [
      "Digite a quantidade de cigarros fumados por dia: 2\n",
      "Digite a quantos anos fuma: 1\n",
      "Perderá 5.07 dias de vida.\n"
     ]
    }
   ],
   "source": [
    "cig = int(input('Digite a quantidade de cigarros fumados por dia: '))\n",
    "anos = int(input('Digite há quantos anos fuma: '))\n",
    "dias = ((cig * 10) * (anos * 365)) / 1440\n",
    "print(f'Perderá {dias :.2f} dias de vida.')"
   ]
  },
  {
   "cell_type": "markdown",
   "metadata": {},
   "source": [
    "# Capítulo 4"
   ]
  },
  {
   "cell_type": "markdown",
   "metadata": {},
   "source": [
    "<strong>Exercício 4.2</strong> - Escreva um programa que pergunte a velocidade do carro de um usuário. Caso ultrapasse 80km/h, exiba uma mensagem dizendo que o usuário foi multado. Nesse caso, exiba o valor da multa, cobrando R$5 por km acima de 80km/h."
   ]
  },
  {
   "cell_type": "code",
   "execution_count": 4,
   "metadata": {},
   "outputs": [
    {
     "name": "stdout",
     "output_type": "stream",
     "text": [
      "Qual a velocidade do carro? 85\n",
      "Você foi multado! Valor da multa R$ 25.00\n"
     ]
    }
   ],
   "source": [
    "veloc = int(input('Qual a velocidade do carro? '))\n",
    "if (veloc > 80):\n",
    "    print(f'Você foi multado! Valor da multa R$ {((veloc - 80) * 5) :.2f}')\n"
   ]
  },
  {
   "cell_type": "markdown",
   "metadata": {},
   "source": [
    "<strong>Exercício 4.3</strong> - Escreva um programa que leia três números e imprima o maior e o menor."
   ]
  },
  {
   "cell_type": "code",
   "execution_count": 16,
   "metadata": {},
   "outputs": [
    {
     "name": "stdout",
     "output_type": "stream",
     "text": [
      "Digite o primeiro número: 3\n",
      "Digite o segundo número: 1\n",
      "Digite o terceiro número: 2\n",
      "O menor número é o 1\n",
      "O maior número é o 3\n"
     ]
    }
   ],
   "source": [
    "a = int(input('Digite o primeiro número: '))\n",
    "b = int(input('Digite o segundo número: '))\n",
    "c = int(input('Digite o terceiro número: '))\n",
    "menor = 0\n",
    "maior = 0\n",
    "if (a > b):\n",
    "    if (a > c):\n",
    "        maior = a\n",
    "        if (b > c):\n",
    "            menor = c\n",
    "        else:\n",
    "            menor = b\n",
    "    else:\n",
    "        maior = c\n",
    "        menor = b\n",
    "else:\n",
    "    if (b > c):\n",
    "        maior = b\n",
    "        if (a > c):\n",
    "            menor = c\n",
    "        else:\n",
    "            menor = a\n",
    "    else:\n",
    "        maior = c\n",
    "        menor = a\n",
    "print(f'O menor número é o {menor}')\n",
    "print(f'O maior número é o {maior}')"
   ]
  },
  {
   "cell_type": "markdown",
   "metadata": {},
   "source": [
    "<strong>Exercício 4.4</strong> - Escreva um programa que pergunte o salário do funcionário e calcule o valor do aumento. Para salários superiores a R$ 1250,00, calcule um aumento de 10%. Para os inferiores ou iguais, de 15%."
   ]
  },
  {
   "cell_type": "code",
   "execution_count": 19,
   "metadata": {},
   "outputs": [
    {
     "name": "stdout",
     "output_type": "stream",
     "text": [
      "Qual o salário? 1000\n",
      "O aumento é de R$150.00\n"
     ]
    }
   ],
   "source": [
    "salario = int(input('Qual o salário? '))\n",
    "if (salario > 1250):\n",
    "    print(f'O aumento é de R${(salario * 0.1) :.2f}')\n",
    "else:\n",
    "    print(f'O aumento é de R${(salario * 0.15) :.2f}')"
   ]
  },
  {
   "cell_type": "markdown",
   "metadata": {},
   "source": [
    "<strong>Exercício 4.6</strong> - Escreva um programa que pergunte a distância que um passageiro deseja percorrer em km. Calcule o preço da passagem, cobrando R$0,50 por km para viagens de até 200km e RS0,45 para viagens mais longas."
   ]
  },
  {
   "cell_type": "code",
   "execution_count": 21,
   "metadata": {},
   "outputs": [
    {
     "name": "stdout",
     "output_type": "stream",
     "text": [
      "Qual a distância deseja percorrer? 300\n",
      "O preço da passagem é de R$135.00\n"
     ]
    }
   ],
   "source": [
    "dist = int(input('Qual a distância deseja percorrer? '))\n",
    "if (dist <= 200):\n",
    "    print(f'O preço da passagem é de R${(dist * 0.5) :.2f}')\n",
    "else:\n",
    "    print(f'O preço da passagem é de R${(dist * 0.45) :.2f}')"
   ]
  },
  {
   "cell_type": "markdown",
   "metadata": {},
   "source": [
    "<strong>Exercício 4.8</strong> - Escreva um programa que leia dois números e que pergunte qual operação você deseja realizar. Você deve poder calcular soma (+), subtração (-), multiplicação (*) e divisão (/). Exiba o resultado da operação solicitada."
   ]
  },
  {
   "cell_type": "code",
   "execution_count": 29,
   "metadata": {},
   "outputs": [
    {
     "name": "stdout",
     "output_type": "stream",
     "text": [
      "Digite o primeiro número: 10\n",
      "Digite o segundo número: 10\n",
      "----------------Operações Disponíveis---------------\n",
      "(1) Soma (2) Subtração (3) Multiplicação (4) Divisão\n",
      "Digite a operação escolhida: 3\n",
      "10 * 10 = 100 \n"
     ]
    }
   ],
   "source": [
    "num1 = int(input('Digite o primeiro número: '))\n",
    "num2 = int(input('Digite o segundo número: '))\n",
    "print(\"----------------Operações Disponíveis---------------\")\n",
    "print(\"(1) Soma (2) Subtração (3) Multiplicação (4) Divisão\")\n",
    "oper = int(input('Digite a operação escolhida: '))\n",
    "if (oper == 1):\n",
    "    print(f'{num1} + {num2} = {num1 + num2} ')\n",
    "elif (oper == 2):\n",
    "    print(f'{num1} - {num2} = {num1 - num2} ')\n",
    "elif (oper == 3):\n",
    "    print(f'{num1} * {num2} = {num1 * num2} ')\n",
    "elif (oper == 4):\n",
    "    print(f'{num1} / {num2} = {num1 / num2} ')\n",
    "else:\n",
    "    print('Operação inexistente!')"
   ]
  },
  {
   "cell_type": "markdown",
   "metadata": {},
   "source": [
    "<strong>Exercicío 4.9</strong> - Escreva um programa para aprovar o empréstimo bancário para compra de uma casa. O programa deve perguntar o valor da casa a comprar, o salário e a quantidade de anos a pagar. O valor da prestação mensal não pode ser superior a 30% do salário. Calcule o valor da prestação como sendo o valor da casa a comprar dividido pelo número de meses a pagar."
   ]
  },
  {
   "cell_type": "code",
   "execution_count": 7,
   "metadata": {},
   "outputs": [
    {
     "name": "stdout",
     "output_type": "stream",
     "text": [
      "Digite o valor da casa: 10000\n",
      "Digite o salário: 1000\n",
      "Digite a quantidade de anos para pagar: 5\n",
      "\n",
      "Prestação máxima:  300.00\n",
      "\n",
      "Prestação:  166.67\n",
      "\n",
      "Empréstimo concedido!\n"
     ]
    }
   ],
   "source": [
    "vcasa = int(input('Digite o valor da casa: '))\n",
    "salario = int(input('Digite o salário: '))\n",
    "prazo = int(input('Digite a quantidade de anos para pagar: '))\n",
    "prest = vcasa / (prazo * 12)\n",
    "print(f'\\nPrestação máxima: {(salario * 0.30) : .2f}')\n",
    "print(f'\\nPrestação: {(vcasa / (prazo * 12)) : .2f}')\n",
    "if (prest > (salario * 0.3)):\n",
    "    print('\\nNão é possível realizar o empréstimo!')\n",
    "else:\n",
    "    print('\\nEmpréstimo concedido!')"
   ]
  },
  {
   "cell_type": "markdown",
   "metadata": {},
   "source": [
    "<strong>Exercício 4.10</strong> - Escreva um programa que calcule o preço a pagar pelo fornecimento de energia elétrica. Pergunte a quantidade de kWh consumida e o tipo de instalação: R para residências, I para indústria e C para comércios. Calcule o preço a pagar de acordo com a tabela a seguir.\n",
    "\n",
    "                                                Preço por tipo e faixa de consumo\n",
    "\n",
    "Tipo | Faixa(kWh) | Preço\n",
    "-----|------------|------\n",
    "Residencial|Até 500|0,40\n",
    "|Acima de 500|0,65\n",
    "Comercial|Até 1000|0,55\n",
    "|Acima de 1000|0,60\n",
    "Industrial|Até 5000|0,55\n",
    "|Acima de 5000|0,60\n"
   ]
  },
  {
   "cell_type": "code",
   "execution_count": 15,
   "metadata": {},
   "outputs": [
    {
     "name": "stdout",
     "output_type": "stream",
     "text": [
      "Digite a quantidade consumida em kWh: 50\n",
      "\n",
      "Tipos de Instalações - (R)Residencial (C)Comercial (I)Industrial\n",
      "Digite o tipo de instalação: c\n",
      "\n",
      "Tipo: Comercial\n",
      "Consumo: 50 kWh\n",
      "Valor Total a Pagar: R$ 27.50\n"
     ]
    }
   ],
   "source": [
    "qtde = int(input('Digite a quantidade consumida em kWh: '))\n",
    "print(\"\\nTipos de Instalações - (R)Residencial (C)Comercial (I)Industrial\")\n",
    "tipo = input('Digite o tipo de instalação: ')\n",
    "total = 0\n",
    "if (tipo == 'R' or tipo =='r'):\n",
    "    if (qtde <= 500):\n",
    "        total = qtde * 0.40\n",
    "    else:\n",
    "        total = qtde * 0.65\n",
    "    print(f'\\nTipo: Residencial\\nConsumo: {qtde} kWh\\nValor Total a Pagar: R$ {total :.2f}')\n",
    "elif (tipo == 'C' or tipo =='c'):\n",
    "    if (qtde <= 1000):\n",
    "        total = qtde * 0.55\n",
    "    else:\n",
    "        total = qtde * 0.60\n",
    "    print(f'\\nTipo: Comercial\\nConsumo: {qtde} kWh\\nValor Total a Pagar: R$ {total :.2f}')\n",
    "elif (tipo == 'I' or tipo =='i'):\n",
    "    if (qtde <= 5000):\n",
    "        total = qtde * 0.55\n",
    "    else:\n",
    "        total = qtde * 0.60\n",
    "    print(f'\\nTipo: Industrial\\nConsumo: {qtde} kWh\\nValor Total a Pagar: R$ {total :.2f}')\n",
    "else:\n",
    "    print('\\nTipo Inválido!')\n",
    "    "
   ]
  }
 ],
 "metadata": {
  "kernelspec": {
   "display_name": "Python 3",
   "language": "python",
   "name": "python3"
  },
  "language_info": {
   "codemirror_mode": {
    "name": "ipython",
    "version": 3
   },
   "file_extension": ".py",
   "mimetype": "text/x-python",
   "name": "python",
   "nbconvert_exporter": "python",
   "pygments_lexer": "ipython3",
   "version": "3.8.3"
  }
 },
 "nbformat": 4,
 "nbformat_minor": 4
}
